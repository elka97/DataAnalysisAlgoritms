{
  "nbformat": 4,
  "nbformat_minor": 0,
  "metadata": {
    "colab": {
      "name": "homework_2.ipynb",
      "provenance": [],
      "collapsed_sections": [],
      "include_colab_link": true
    },
    "kernelspec": {
      "display_name": "Python 3",
      "language": "python",
      "name": "python3"
    },
    "language_info": {
      "codemirror_mode": {
        "name": "ipython",
        "version": 3
      },
      "file_extension": ".py",
      "mimetype": "text/x-python",
      "name": "python",
      "nbconvert_exporter": "python",
      "pygments_lexer": "ipython3",
      "version": "3.7.3"
    },
    "toc": {
      "base_numbering": 1,
      "nav_menu": {},
      "number_sections": false,
      "sideBar": true,
      "skip_h1_title": true,
      "title_cell": "План урока",
      "title_sidebar": "План",
      "toc_cell": true,
      "toc_position": {
        "height": "calc(100% - 180px)",
        "left": "10px",
        "top": "150px",
        "width": "165px"
      },
      "toc_section_display": true,
      "toc_window_display": false
    }
  },
  "cells": [
    {
      "cell_type": "markdown",
      "metadata": {
        "id": "view-in-github",
        "colab_type": "text"
      },
      "source": [
        "<a href=\"https://colab.research.google.com/github/elka97/DataAnalysisAlgoritms/blob/main/homework_2.ipynb\" target=\"_parent\"><img src=\"https://colab.research.google.com/assets/colab-badge.svg\" alt=\"Open In Colab\"/></a>"
      ]
    },
    {
      "cell_type": "code",
      "metadata": {
        "id": "_u5bV-OlT34p"
      },
      "source": [
        "import numpy as np\n",
        "import matplotlib.pyplot as plt\n",
        "plt.rcParams.update({'font.size': 14,\n",
        "                     'xtick.labelsize': 14})"
      ],
      "execution_count": 134,
      "outputs": []
    },
    {
      "cell_type": "code",
      "metadata": {
        "id": "hJQIFFDWgSwF"
      },
      "source": [
        "def calc_mse(y, y_pred):\n",
        "    err = np.mean((y - y_pred)**2)\n",
        "    return err"
      ],
      "execution_count": 135,
      "outputs": []
    },
    {
      "cell_type": "code",
      "metadata": {
        "id": "VDpN7UxYnrcS"
      },
      "source": [
        "# Метод градиентного спуска\n",
        "def eval_GD(X, y, iterations, alpha=1e-4):\n",
        "    errors=[]\n",
        "    np.random.seed(42)\n",
        "    w = np.random.randn(X.shape[1])\n",
        "    n = X.shape[0]\n",
        "    for i in range(1, iterations + 1):\n",
        "        y_pred = np.dot(X, w)\n",
        "        err = calc_mse(y, y_pred)\n",
        "        w -= alpha * (1/n * 2 * np.dot((y_pred - y), X)) \n",
        "        errors.append(err)       \n",
        "        if i % (iterations / 10) == 0:\n",
        "            print(i, w, err)\n",
        "            # errors.append(err)\n",
        "    return w, errors\n",
        "\n",
        "\n",
        "## Стохастический градиентный спуск (Stochastic Gradient Descent, SGD)\n",
        "# mini-batch GD & SGD\n",
        "def eval_SGD(X, y, iterations, qty_in_batch=1, alpha=1e-4):\n",
        "    errors=[]\n",
        "    np.random.seed(42)\n",
        "    w = np.random.randn(X.shape[1]) # начальное приближение весов\n",
        "    n = X.shape[0] # число наблюдений\n",
        "    n_batch = n // qty_in_batch\n",
        "    if n % qty_in_batch != 0:\n",
        "        n_batch += 1\n",
        "    # print(n_batch)\n",
        "    for i in range(1, iterations + 1):\n",
        "        for b in range(n_batch):\n",
        "            start_ = qty_in_batch * b\n",
        "            end_ = qty_in_batch * (b + 1)\n",
        "            X_tmp = X[start_ : end_, :]\n",
        "            y_tmp = y[start_ : end_]\n",
        "            y_pred_tmp = np.dot(X_tmp, w)\n",
        "            err = calc_mse(y_tmp, y_pred_tmp)\n",
        "            w -= alpha * (1/n * 2 * np.dot((y_pred_tmp - y_tmp), X_tmp)) \n",
        "        errors.append(err)           \n",
        "        if i % (iterations / 10) == 0:\n",
        "            print(i, w, err)\n",
        "            # errors.append(err)\n",
        "    return w, errors"
      ],
      "execution_count": 136,
      "outputs": []
    },
    {
      "cell_type": "markdown",
      "metadata": {
        "id": "ANcaYBEkC8Ru"
      },
      "source": [
        "1. Сгенерировать датасет при помощи `sklearn.datasets.make_regression` и обучить линейную модель при помощи градиентного спуска и стохастического градиентного спуска. Построить графики среднеквадратичной ошибки от числа итераций для обоих методов на одном рисунке, сделать выводы о разнице скорости сходимости каждого из методов.\n"
      ]
    },
    {
      "cell_type": "code",
      "metadata": {
        "id": "0pNQHUkRC8Ru"
      },
      "source": [
        "from sklearn import datasets\n",
        "X, y, coef = datasets.make_regression(n_samples=100, \n",
        "                                      n_features=2, \n",
        "                                      n_informative=2, \n",
        "                                      n_targets=1,\n",
        "                                      noise=5, \n",
        "                                      coef=True, \n",
        "                                      random_state=42)\n",
        "# X, y"
      ],
      "execution_count": null,
      "outputs": []
    },
    {
      "cell_type": "code",
      "metadata": {
        "colab": {
          "base_uri": "https://localhost:8080/"
        },
        "id": "tYahPodkykKj",
        "outputId": "6590dd74-4f96-4b28-87d6-c62c5ce54beb"
      },
      "source": [
        "coef"
      ],
      "execution_count": 138,
      "outputs": [
        {
          "output_type": "execute_result",
          "data": {
            "text/plain": [
              "array([87.73730719, 74.07686178])"
            ]
          },
          "metadata": {},
          "execution_count": 138
        }
      ]
    },
    {
      "cell_type": "code",
      "metadata": {
        "colab": {
          "base_uri": "https://localhost:8080/"
        },
        "id": "kRY2Ec7lXHld",
        "outputId": "5ac1c0dc-9f8d-43e2-d079-42248a051eee"
      },
      "source": [
        "# веса по МНК\n",
        "w_mnk = np.linalg.inv(X.T @ X) @ X.T @ y\n",
        "w_mnk"
      ],
      "execution_count": 139,
      "outputs": [
        {
          "output_type": "execute_result",
          "data": {
            "text/plain": [
              "array([86.85290273, 74.10093365])"
            ]
          },
          "metadata": {},
          "execution_count": 139
        }
      ]
    },
    {
      "cell_type": "code",
      "metadata": {
        "colab": {
          "base_uri": "https://localhost:8080/"
        },
        "id": "dooKRZMEWRQf",
        "outputId": "509d3396-bb5e-425a-9044-bf7caa900b17"
      },
      "source": [
        "w_gd, errors_gd = eval_GD(X, y, iterations=1500, alpha=1e-2)\n",
        "y_pred_gd = np.dot(X, w_gd)\n",
        "err_gd = calc_mse(y, y_pred_gd)\n",
        "print(f'метод градиентного спуска MSE: {err_gd}')"
      ],
      "execution_count": 141,
      "outputs": [
        {
          "output_type": "stream",
          "name": "stdout",
          "text": [
            "150 [77.98812456 70.84245251] 101.00012031045402\n",
            "300 [85.91949688 73.98513742] 29.447749543149772\n",
            "450 [86.75340147 74.10013615] 28.772456569533812\n",
            "600 [86.84223393 74.10142749] 28.764997644042502\n",
            "750 [86.85175568 74.10101565] 28.76491196572977\n",
            "900 [86.85277925 74.10094392] 28.764910973046263\n",
            "1050 [86.85288943 74.10093483] 28.76491096152363\n",
            "1200 [86.85290129 74.10093378] 28.76491096138981\n",
            "1350 [86.85290257 74.10093367] 28.764910961388278\n",
            "1500 [86.85290271 74.10093366] 28.76491096138825\n",
            "метод градиентного спуска MSE: 28.764910961388246\n"
          ]
        }
      ]
    },
    {
      "cell_type": "code",
      "metadata": {
        "colab": {
          "base_uri": "https://localhost:8080/"
        },
        "id": "1cgYqk4qY0qd",
        "outputId": "eab6de92-69de-48b4-b4c1-0ed8bf1d4a3e"
      },
      "source": [
        "w_sgd, errors_sgd = eval_SGD(X, y, iterations=1500, alpha=1e-2)\n",
        "y_pred_sgd = np.dot(X, w_sgd)\n",
        "err_sgd = calc_mse(y, y_pred_sgd)\n",
        "print(f'метода стохастического градиентного спуска MSE: {err_sgd}')"
      ],
      "execution_count": 142,
      "outputs": [
        {
          "output_type": "stream",
          "name": "stdout",
          "text": [
            "150 [77.84258528 70.73232112] 0.07772996897757038\n",
            "300 [85.88816005 73.97410809] 18.898467101200865\n",
            "450 [86.74743558 74.09824587] 21.786908827353905\n",
            "600 [86.84040988 74.10004652] 22.02630064872282\n",
            "750 [86.85053277 74.09964131] 22.048028812300316\n",
            "900 [86.85163819 74.09956618] 22.050175347567993\n",
            "1050 [86.85175907 74.09955638] 22.05039846195725\n",
            "1200 [86.85177229 74.09955523] 22.050422281415234\n",
            "1350 [86.85177374 74.0995551 ] 22.050424858202103\n",
            "1500 [86.8517739  74.09955508] 22.050425138735097\n",
            "метода стохастического градиентного спуска MSE: 28.76491385574897\n"
          ]
        }
      ]
    },
    {
      "cell_type": "code",
      "metadata": {
        "id": "JisELr6wc2ra"
      },
      "source": [
        "# len(errors_gd), len(errors_sgd)"
      ],
      "execution_count": null,
      "outputs": []
    },
    {
      "cell_type": "code",
      "metadata": {
        "colab": {
          "base_uri": "https://localhost:8080/",
          "height": 413
        },
        "id": "IEGXyI_WcgwA",
        "outputId": "9c03ab27-4060-4f32-db51-2bba0c151b4e"
      },
      "source": [
        "# Визуализируем изменение функционала ошибки\n",
        "plt.figure(figsize=(13, 6))\n",
        "plt.plot(errors_gd, alpha=1)\n",
        "plt.plot(errors_sgd, alpha=1)\n",
        "plt.xlabel('Iteration number')\n",
        "plt.ylabel('MSE')"
      ],
      "execution_count": 144,
      "outputs": [
        {
          "output_type": "execute_result",
          "data": {
            "text/plain": [
              "Text(0, 0.5, 'MSE')"
            ]
          },
          "metadata": {},
          "execution_count": 144
        },
        {
          "output_type": "display_data",
          "data": {
            "image/png": "[encoded data removed]",
            "text/plain": [
              "<Figure size 936x432 with 1 Axes>"
            ]
          },
          "metadata": {
            "needs_background": "light"
          }
        }
      ]
    },
    {
      "cell_type": "markdown",
      "metadata": {
        "id": "g_GAVtWkmkIY"
      },
      "source": [
        "GD сошелся после 250 итераций +-, стохастический после 150.\n",
        "Stochastic GD faster"
      ]
    },
    {
      "cell_type": "markdown",
      "metadata": {
        "id": "5sGzOvEtfGbl"
      },
      "source": [
        "2. Модифицировать решение первого задания путем добавления L2 регуляризации и сравнить результаты."
      ]
    },
    {
      "cell_type": "code",
      "metadata": {
        "id": "0aiyeaMPfFt_"
      },
      "source": [
        "# Метод градиентного спуска + регуляризация - Ridge\n",
        "def eval_GD_reg2(X, y, iterations, alpha=1e-4, lambda_=1e-8):\n",
        "    errors=[]\n",
        "    np.random.seed(42)\n",
        "    w = np.random.randn(X.shape[1])\n",
        "    n = X.shape[0]\n",
        "    for i in range(1, iterations + 1):\n",
        "        y_pred = np.dot(X, w)\n",
        "        err = calc_mse(y, y_pred)\n",
        "        w -= alpha * (1/n * 2 * np.dot((y_pred - y), X) + 2 * lambda_ * w) \n",
        "        errors.append(err)       \n",
        "        if i % (iterations / 10) == 0:\n",
        "            print(i, w, err)\n",
        "            # errors.append(err)\n",
        "    return w, errors\n",
        "\n",
        "## Стохастический градиентный спуск (Stochastic Gradient Descent, SGD) + регуляризация - Ridge\n",
        "# mini-batch GD & SGD\n",
        "def eval_SGD_reg2(X, y, iterations, qty_in_batch=1, alpha=1e-4, lambda_=1e-8):\n",
        "    errors=[]\n",
        "    np.random.seed(42)\n",
        "    w = np.random.randn(X.shape[1]) # начальное приближение весов\n",
        "    n = X.shape[0] # число наблюдений\n",
        "    n_batch = n // qty_in_batch\n",
        "    if n % qty_in_batch != 0:\n",
        "        n_batch += 1\n",
        "    # print(n_batch)\n",
        "    for i in range(1, iterations + 1):\n",
        "        for b in range(n_batch):\n",
        "            start_ = qty_in_batch * b\n",
        "            end_ = qty_in_batch * (b + 1)\n",
        "            X_tmp = X[start_ : end_, :]\n",
        "            y_tmp = y[start_ : end_]\n",
        "            y_pred_tmp = np.dot(X_tmp, w)\n",
        "            err = calc_mse(y_tmp, y_pred_tmp)\n",
        "            w -= alpha * (1/n * 2 * np.dot((y_pred_tmp - y_tmp), X_tmp)+ 2 * lambda_ * w) \n",
        "        errors.append(err)           \n",
        "        if i % (iterations / 10) == 0:\n",
        "            print(i, w, err)\n",
        "            # errors.append(err)\n",
        "    return w, errors"
      ],
      "execution_count": 145,
      "outputs": []
    },
    {
      "cell_type": "code",
      "metadata": {
        "id": "Twz77xSPil-D"
      },
      "source": [
        "lambda_reg2=1e-2"
      ],
      "execution_count": 146,
      "outputs": []
    },
    {
      "cell_type": "code",
      "metadata": {
        "colab": {
          "base_uri": "https://localhost:8080/"
        },
        "id": "ZmWt366jg2Q1",
        "outputId": "1842a6a5-b5e9-4c7c-cbff-a96fa67ef337"
      },
      "source": [
        "w_gd_reg2, errors_gd_reg2 = eval_GD_reg2(X, y, iterations=1500, alpha=1e-2, lambda_=lambda_reg2)\n",
        "y_pred_gd_reg2 = np.dot(X, w_gd_reg2)\n",
        "err_gd_reg2 = calc_mse(y, y_pred_gd_reg2)\n",
        "print(f'веса s L2 регуляризаци для метода градиентного спуска: {w_gd_reg2} MSE: {err_gd_reg2} lambda: {lambda_reg2}\\n\\n')\n",
        "\n",
        "w_gd_reg2, errors_gd_reg2 = eval_GD_reg2(X, y, iterations=1500, alpha=1e-2, lambda_=0)\n",
        "y_pred_gd_reg2 = np.dot(X, w_gd_reg2)\n",
        "err_gd_reg2 = calc_mse(y, y_pred_gd_reg2)\n",
        "print(f'веса без L2 регуляризации веса для метода градиентного спуска: {w_gd_reg2} MSE: {err_gd_reg2} lambda: {lambda_reg2}\\n')"
      ],
      "execution_count": 147,
      "outputs": [
        {
          "output_type": "stream",
          "name": "stdout",
          "text": [
            "150 [77.23186057 70.2545053 ] 116.0094201822771\n",
            "300 [84.84966448 73.27769223] 32.52355186048436\n",
            "450 [85.62655069 73.38503449] 30.427347826390022\n",
            "600 [85.70682584 73.38621014] 30.279763485689823\n",
            "750 [85.71517223 73.38584949] 30.265706428001533\n",
            "900 [85.71604253 73.38578852] 30.264281778952608\n",
            "1050 [85.7161334  73.38578102] 30.26413478343869\n",
            "1200 [85.7161429  73.38578019] 30.264119507849095\n",
            "1350 [85.71614389 73.38578009] 30.264117915365464\n",
            "1500 [85.71614399 73.38578009] 30.264117749106\n",
            "веса s L2 регуляризаци для метода градиентного спуска: [85.71614399 73.38578009] MSE: 30.26411774881612 lambda: 0.01\n",
            "\n",
            "\n",
            "150 [77.98812456 70.84245251] 101.00012031045402\n",
            "300 [85.91949688 73.98513742] 29.447749543149772\n",
            "450 [86.75340147 74.10013615] 28.772456569533812\n",
            "600 [86.84223393 74.10142749] 28.764997644042502\n",
            "750 [86.85175568 74.10101565] 28.76491196572977\n",
            "900 [86.85277925 74.10094392] 28.764910973046263\n",
            "1050 [86.85288943 74.10093483] 28.76491096152363\n",
            "1200 [86.85290129 74.10093378] 28.76491096138981\n",
            "1350 [86.85290257 74.10093367] 28.764910961388278\n",
            "1500 [86.85290271 74.10093366] 28.76491096138825\n",
            "веса без L2 регуляризации веса для метода градиентного спуска: [86.85290271 74.10093366] MSE: 28.764910961388246 lambda: 0.01\n",
            "\n"
          ]
        }
      ]
    },
    {
      "cell_type": "code",
      "metadata": {
        "colab": {
          "base_uri": "https://localhost:8080/"
        },
        "id": "RbDpVm0fkkur",
        "outputId": "43d8937b-f91b-4bc8-fa45-0484c0e9798f"
      },
      "source": [
        "w_sgd_reg2, errors_sgd_reg2 = eval_SGD_reg2(X, y, iterations=1500, alpha=1e-2, lambda_=lambda_reg2)\n",
        "y_pred_sgd_reg2 = np.dot(X, w_sgd_reg2)\n",
        "err_sgd_reg2 = calc_mse(y, y_pred_sgd_reg2)\n",
        "print(f'веса s L2 регуляризаци для метода стохастического градиентного спуска: {w_sgd_reg2} MSE: {err_sgd_reg2} lambda: {lambda_reg2}\\n\\n')\n",
        "\n",
        "w_sgd_reg2, errors_sgd_reg2 = eval_SGD_reg2(X, y, iterations=1500, alpha=1e-2, lambda_=0)\n",
        "y_pred_sgd_reg2 = np.dot(X, w_sgd_reg2)\n",
        "err_sgd_reg2 = calc_mse(y, y_pred_sgd_reg2)\n",
        "print(f'веса без L2 регуляризации веса для стохастического метода градиентного спуска: {w_sgd_reg2} MSE: {err_sgd_reg2} lambda: {lambda_reg2}\\n')"
      ],
      "execution_count": 148,
      "outputs": [
        {
          "output_type": "stream",
          "name": "stdout",
          "text": [
            "150 [37.17328539 37.33307585] 1365.8608898264745\n",
            "300 [37.36204527 37.41945754] 1357.2537886020298\n",
            "450 [37.36304544 37.4196289 ] 1357.224756168948\n",
            "600 [37.36305082 37.41962907] 1357.2246432044415\n",
            "750 [37.36305084 37.41962907] 1357.2246427039233\n",
            "900 [37.36305084 37.41962907] 1357.2246427014932\n",
            "1050 [37.36305084 37.41962907] 1357.224642701467\n",
            "1200 [37.36305084 37.41962907] 1357.224642701467\n",
            "1350 [37.36305084 37.41962907] 1357.224642701467\n",
            "1500 [37.36305084 37.41962907] 1357.224642701467\n",
            "веса s L2 регуляризаци для метода градиентного спуска: [37.36305084 37.41962907] MSE: 3255.1566151402467 lambda: 0.01\n",
            "\n",
            "\n",
            "150 [77.84258528 70.73232112] 0.07772996897757038\n",
            "300 [85.88816005 73.97410809] 18.898467101200865\n",
            "450 [86.74743558 74.09824587] 21.786908827353905\n",
            "600 [86.84040988 74.10004652] 22.02630064872282\n",
            "750 [86.85053277 74.09964131] 22.048028812300316\n",
            "900 [86.85163819 74.09956618] 22.050175347567993\n",
            "1050 [86.85175907 74.09955638] 22.05039846195725\n",
            "1200 [86.85177229 74.09955523] 22.050422281415234\n",
            "1350 [86.85177374 74.0995551 ] 22.050424858202103\n",
            "1500 [86.8517739  74.09955508] 22.050425138735097\n",
            "веса без L2 регуляризации веса для метода градиентного спуска: [86.8517739  74.09955508] MSE: 28.76491385574897 lambda: 0.01\n",
            "\n"
          ]
        }
      ]
    },
    {
      "cell_type": "markdown",
      "metadata": {
        "id": "n86eIgWNls6w"
      },
      "source": [
        "С L2 регуляризацией SGD не всегда сходится на 1500 итерациях, +растет ошибка"
      ]
    }
  ]
}