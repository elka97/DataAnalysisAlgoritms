{
  "nbformat": 4,
  "nbformat_minor": 0,
  "metadata": {
    "colab": {
      "name": "homework_3.ipynb",
      "provenance": [],
      "collapsed_sections": [],
      "include_colab_link": true
    },
    "kernelspec": {
      "display_name": "Python 3",
      "language": "python",
      "name": "python3"
    },
    "language_info": {
      "codemirror_mode": {
        "name": "ipython",
        "version": 3
      },
      "file_extension": ".py",
      "mimetype": "text/x-python",
      "name": "python",
      "nbconvert_exporter": "python",
      "pygments_lexer": "ipython3",
      "version": "3.7.3"
    },
    "toc": {
      "base_numbering": 1,
      "nav_menu": {},
      "number_sections": false,
      "sideBar": true,
      "skip_h1_title": true,
      "title_cell": "План урока",
      "title_sidebar": "План",
      "toc_cell": true,
      "toc_position": {
        "height": "calc(100% - 180px)",
        "left": "10px",
        "top": "150px",
        "width": "165px"
      },
      "toc_section_display": true,
      "toc_window_display": false
    }
  },
  "cells": [
    {
      "cell_type": "markdown",
      "metadata": {
        "id": "view-in-github",
        "colab_type": "text"
      },
      "source": [
        "<a href=\"https://colab.research.google.com/github/elka97/DataAnalysisAlgoritms/blob/main/homework_3.ipynb\" target=\"_parent\"><img src=\"https://colab.research.google.com/assets/colab-badge.svg\" alt=\"Open In Colab\"/></a>"
      ]
    },
    {
      "cell_type": "code",
      "metadata": {
        "id": "SbCJNGcYgP2y"
      },
      "source": [
        "import numpy as np"
      ],
      "execution_count": 159,
      "outputs": []
    },
    {
      "cell_type": "code",
      "metadata": {
        "id": "QJxIFtGzgb-_"
      },
      "source": [
        "def standard_scaler(x):\n",
        "    res = (x - x.mean()) / x.std()\n",
        "    return res\n",
        "\n",
        "def sigmoid(z):\n",
        "    res = 1 / (1 + np.exp(-z))\n",
        "    return res \n",
        "\n",
        "def calc_logloss(y, y_pred):\n",
        "    err = np.mean(- y * np.log(y_pred) - (1.0 - y) * np.log(1.0 - y_pred))\n",
        "    return err "
      ],
      "execution_count": 160,
      "outputs": []
    },
    {
      "cell_type": "markdown",
      "metadata": {
        "id": "iinoyeH6_6JG"
      },
      "source": [
        "1. Измените функцию calc_logloss так, чтобы нули по возможности не попадали в np.log (как вариант - использовать np.clip или np.where)."
      ]
    },
    {
      "cell_type": "code",
      "metadata": {
        "id": "SZL6aWA9_9C-"
      },
      "source": [
        "def calc_logloss_no_zeros(y, y_pred, log_adjust=1e-1):        \n",
        "    ymin=0+log_adjust\n",
        "    ymax=1-log_adjust\n",
        "    _y = np.clip(y, a_min = ymin, a_max =ymax) \n",
        "    _y_pred = np.clip(y_pred, a_min = ymin, a_max = ymax)\n",
        "    err = np.mean(- y * np.log(_y_pred) - (1.0 - _y) * np.log(1.0 - _y_pred))\n",
        "    return err\n",
        "\n",
        "def eval_LR_model_no_zeros(X, y, iterations, alpha=1e-4, log_adjust=1e-1):\n",
        "    np.random.seed(42)\n",
        "    w = np.random.randn(X.shape[1])\n",
        "    n = X.shape[0]\n",
        "    for i in range(1, iterations + 1):\n",
        "        z = np.dot(X, w) # log(p/(1-p))\n",
        "        y_pred = sigmoid(z) # p [0, 1]\n",
        "        err = calc_logloss_no_zeros(y, y_pred, log_adjust)\n",
        "        w -= alpha * (1/n * np.dot(X.T, (y_pred - y)))\n",
        "        if i % (iterations / 10) == 0:\n",
        "            print(i, w, err)\n",
        "    return w"
      ],
      "execution_count": 161,
      "outputs": []
    },
    {
      "cell_type": "code",
      "metadata": {
        "colab": {
          "base_uri": "https://localhost:8080/"
        },
        "id": "1fRxQ3Q2DKZN",
        "outputId": "6c96ff26-54de-49e2-8b9a-c9f88660d7f2"
      },
      "source": [
        "X = np.array([[1, 1, 1, 1, 1, 1, 1, 1, 1, 1],\n",
        "              [1, 1, 2, 1, 3, 0, 5, 10, 1, 2],  # стаж репетитора\n",
        "              [500, 700, 750, 600, 1450,        # средняя стоимость занятия\n",
        "               800, 1500, 2000, 450, 1000],\n",
        "              [1, 1, 2, 1, 2, 1, 3, 3, 1, 2]],  # квалификация репетитора\n",
        "              dtype = np.float64).T \n",
        "\n",
        "y = np.array([0, 0, 1, 0, 1, 0, 1, 0, 1, 1]) # поступил или нет ученик на специальность Математика\n",
        "\n",
        "X_st = X.copy()\n",
        "X_st[:, 2] = standard_scaler(X[:, 2])\n",
        "\n",
        "log_adjust = 1e-8\n",
        "w = eval_LR_model_no_zeros(X_st, y, 2000, 1e-2, log_adjust) \n",
        "w"
      ],
      "execution_count": 180,
      "outputs": [
        {
          "output_type": "stream",
          "name": "stdout",
          "text": [
            "200 [ 0.14805533 -0.69317972  0.77965488  1.21287192] 0.5687278091774088\n",
            "400 [-0.00887935 -0.68415387  0.90713736  1.22443854] 0.5476800304816031\n",
            "600 [-0.1239972  -0.69202069  0.98318257  1.26924759] 0.5369841892969819\n",
            "800 [-0.21681092 -0.7078635   1.03062761  1.32973537] 0.5295551533064984\n",
            "1000 [-0.29764618 -0.72670545  1.061634    1.39666497] 0.5233765362660872\n",
            "1200 [-0.37188064 -0.7461597   1.08260067  1.46531853] 0.5178498879052098\n",
            "1400 [-0.44230332 -0.76510554  1.09696619  1.53338645] 0.5127677872523864\n",
            "1600 [-0.51036921 -0.783047    1.10664485  1.59979796] 0.5080360429391497\n",
            "1800 [-0.57684595 -0.79979671  1.11275552  1.66410902] 0.503597787278171\n",
            "2000 [-0.64214517 -0.81531815  1.11599369  1.72618787] 0.49941172112416715\n"
          ]
        },
        {
          "output_type": "execute_result",
          "data": {
            "text/plain": [
              "array([-0.64214517, -0.81531815,  1.11599369,  1.72618787])"
            ]
          },
          "metadata": {},
          "execution_count": 180
        }
      ]
    },
    {
      "cell_type": "markdown",
      "metadata": {
        "id": "r1i7Yq84y8mS"
      },
      "source": [
        "\n",
        "\n",
        "---\n",
        "\n"
      ]
    },
    {
      "cell_type": "markdown",
      "metadata": {
        "id": "D72SXkrDR2gR"
      },
      "source": [
        "2. Подберите аргументы функции eval_LR_model для логистической регрессии таким образом, чтобы log loss был минимальным. Покажите влияние гиперпараметров на ошибку алгоритма (оптимально здесь использовать критерий остановки обучения)."
      ]
    },
    {
      "cell_type": "code",
      "metadata": {
        "id": "ZiwFNKOJC-w5"
      },
      "source": [
        "def eval_LR_model_early_stop(X, y, iterations, alpha=1e-4, min_weight_dist=1e-5, debug=False):\n",
        "    np.random.seed(42)\n",
        "    w = np.random.randn(X.shape[1])\n",
        "    n = X.shape[0]    \n",
        "    tmp = np.inf\n",
        "    errors=[]\n",
        "    for i in range(1, iterations + 1):\n",
        "        z = np.dot(X, w) # log(p/(1-p))\n",
        "        y_pred = sigmoid(z) # p [0, 1]\n",
        "        err = calc_logloss(y, y_pred)\n",
        "        errors.append(err)\n",
        "        prev_w = w\n",
        "        w -= alpha * (1/n * np.dot(X.T, (y_pred - y)))        \n",
        "        if debug and i % (iterations / 10) == 0:\n",
        "            print(i, w, err)\n",
        "        if abs(tmp-err) <= min_weight_dist:\n",
        "            # print(f\"{i} iterations need\")\n",
        "            print(i, w, err, f\" Stopped on {i} iteration\")\n",
        "            break\n",
        "        tmp=err\n",
        "    return w, errors, i"
      ],
      "execution_count": 181,
      "outputs": []
    },
    {
      "cell_type": "code",
      "metadata": {
        "colab": {
          "base_uri": "https://localhost:8080/"
        },
        "id": "AxxY7FbVaGvz",
        "outputId": "a56f241c-56a4-4bff-b33c-a33efe7804cf"
      },
      "source": [
        "X = np.array([[1, 1, 1, 1, 1, 1, 1, 1, 1, 1],\n",
        "              [1, 1, 2, 1, 3, 0, 5, 10, 1, 2],  # стаж репетитора\n",
        "              [500, 700, 750, 600, 1450,        # средняя стоимость занятия\n",
        "               800, 1500, 2000, 450, 1000],\n",
        "              [1, 1, 2, 1, 2, 1, 3, 3, 1, 2]],  # квалификация репетитора\n",
        "              dtype = np.float64).T \n",
        "\n",
        "y = np.array([0, 0, 1, 0, 1, 0, 1, 0, 1, 1]) # поступил или нет ученик на специальность Математика\n",
        "\n",
        "X_st = X.copy()\n",
        "X_st[:, 2] = standard_scaler(X[:, 2])\n",
        "\n",
        "best = {\"weights\": np.inf, \"iterations\": np.inf, \"error\": np.inf, \"alpha\":np.inf, \"early_stop_iteration\":np.inf}\n",
        "\n",
        "# find optimal learning rate\n",
        "for iterations in range(1000, 10000, 1000):\n",
        "  for alpha in np.logspace(start=-3, stop=-1, num=5):\n",
        "      # print(iterations, alpha)      \n",
        "      w, errs, early_stop_iter = eval_LR_model_early_stop(X_st, y, iterations, alpha, debug=False)\n",
        "      if errs[-1] < best.get(\"error\"):\n",
        "          best = {\"weights\": w, \"iterations\": iterations, \"error\": errs[-1], \"alpha\": alpha, \"early_stop_iteration\":early_stop_iter}\n",
        "\n",
        "print(\"\\nBest paramters:\")\n",
        "best"
      ],
      "execution_count": 182,
      "outputs": [
        {
          "output_type": "stream",
          "name": "stdout",
          "text": [
            "2725 [-0.24263494 -0.71350201  1.04144098  1.34998906] 0.5275400371619717  Stopped on 2725 iteration\n",
            "3017 [ 0.06146141 -0.68603187  0.85260956  1.21305757] 0.5558187108126926  Stopped on 3017 iteration\n",
            "2725 [-0.24263494 -0.71350201  1.04144098  1.34998906] 0.5275400371619717  Stopped on 2725 iteration\n",
            "3017 [ 0.06146141 -0.68603187  0.85260956  1.21305757] 0.5558187108126926  Stopped on 3017 iteration\n",
            "2725 [-0.24263494 -0.71350201  1.04144098  1.34998906] 0.5275400371619717  Stopped on 2725 iteration\n",
            "3017 [ 0.06146141 -0.68603187  0.85260956  1.21305757] 0.5558187108126926  Stopped on 3017 iteration\n",
            "2725 [-0.24263494 -0.71350201  1.04144098  1.34998906] 0.5275400371619717  Stopped on 2725 iteration\n",
            "5853 [-8.53579974 -1.24563049 -1.51151549  7.33020294] 0.28384397239036285  Stopped on 5853 iteration\n",
            "3017 [ 0.06146141 -0.68603187  0.85260956  1.21305757] 0.5558187108126926  Stopped on 3017 iteration\n",
            "2725 [-0.24263494 -0.71350201  1.04144098  1.34998906] 0.5275400371619717  Stopped on 2725 iteration\n",
            "6823 [-2.01991797 -0.97320565  0.83993406  2.78408516] 0.43336113303724266  Stopped on 6823 iteration\n",
            "5853 [-8.53579974 -1.24563049 -1.51151549  7.33020294] 0.28384397239036285  Stopped on 5853 iteration\n",
            "3017 [ 0.06146141 -0.68603187  0.85260956  1.21305757] 0.5558187108126926  Stopped on 3017 iteration\n",
            "2725 [-0.24263494 -0.71350201  1.04144098  1.34998906] 0.5275400371619717  Stopped on 2725 iteration\n",
            "6823 [-2.01991797 -0.97320565  0.83993406  2.78408516] 0.43336113303724266  Stopped on 6823 iteration\n",
            "7133 [-4.96288617 -1.04828801 -0.27750347  4.69747762] 0.34462927392257003  Stopped on 7133 iteration\n",
            "5853 [-8.53579974 -1.24563049 -1.51151549  7.33020294] 0.28384397239036285  Stopped on 5853 iteration\n",
            "3017 [ 0.06146141 -0.68603187  0.85260956  1.21305757] 0.5558187108126926  Stopped on 3017 iteration\n",
            "2725 [-0.24263494 -0.71350201  1.04144098  1.34998906] 0.5275400371619717  Stopped on 2725 iteration\n",
            "6823 [-2.01991797 -0.97320565  0.83993406  2.78408516] 0.43336113303724266  Stopped on 6823 iteration\n",
            "7133 [-4.96288617 -1.04828801 -0.27750347  4.69747762] 0.34462927392257003  Stopped on 7133 iteration\n",
            "5853 [-8.53579974 -1.24563049 -1.51151549  7.33020294] 0.28384397239036285  Stopped on 5853 iteration\n",
            "\n",
            "Best paramters:\n"
          ]
        },
        {
          "output_type": "execute_result",
          "data": {
            "text/plain": [
              "{'alpha': 0.1,\n",
              " 'early_stop_iteration': 5853,\n",
              " 'error': 0.28384397239036285,\n",
              " 'iterations': 6000,\n",
              " 'weights': array([-8.53579974, -1.24563049, -1.51151549,  7.33020294])}"
            ]
          },
          "metadata": {},
          "execution_count": 182
        }
      ]
    },
    {
      "cell_type": "markdown",
      "metadata": {
        "id": "XxMoKWZwy4Nj"
      },
      "source": [
        "\n",
        "\n",
        "---\n",
        "\n"
      ]
    },
    {
      "cell_type": "markdown",
      "metadata": {
        "id": "UEIMO4cfd9rK"
      },
      "source": [
        "3. Создайте функцию `calc_pred_proba`, возвращающую предсказанную вероятность класса 1 (на вход подаются значения признаков Х и веса, которые уже посчитаны функцией `eval_LR_model`, на выходе - массив `y_pred_proba`)."
      ]
    },
    {
      "cell_type": "code",
      "metadata": {
        "id": "8KkS-LKZd_xy"
      },
      "source": [
        "def calc_pred_proba(X, w):    \n",
        "    y_pred_proba = sigmoid(np.dot(X_st, w))\n",
        "    return y_pred_proba > 0.5  # вероятность отнесения объекта к классу \"+1\""
      ],
      "execution_count": 165,
      "outputs": []
    },
    {
      "cell_type": "code",
      "metadata": {
        "colab": {
          "base_uri": "https://localhost:8080/"
        },
        "id": "gVorbMUni38-",
        "outputId": "84e3b0c0-1af8-49a0-d7be-0a5a20b4b5d4"
      },
      "source": [
        "X = np.array([[1, 1, 1, 1, 1, 1, 1, 1, 1, 1],\n",
        "              [1, 1, 2, 1, 3, 0, 5, 10, 1, 2],  # стаж репетитора\n",
        "              [500, 700, 750, 600, 1450,        # средняя стоимость занятия\n",
        "               800, 1500, 2000, 450, 1000],\n",
        "              [1, 1, 2, 1, 2, 1, 3, 3, 1, 2]],  # квалификация репетитора\n",
        "              dtype = np.float64).T \n",
        "\n",
        "y = np.array([0, 0, 1, 0, 1, 0, 1, 0, 1, 1]) # поступил или нет ученик на специальность Математика\n",
        "\n",
        "X_st = X.copy()\n",
        "X_st[:, 2] = standard_scaler(X[:, 2])\n",
        "\n",
        "w = best.get('weights')\n",
        "w\n",
        "\n",
        "positive_class_st = calc_pred_proba(X_st, w)\n",
        "positive_class = calc_pred_proba(X, w)\n",
        "\n",
        "positive_class_st, positive_class"
      ],
      "execution_count": 166,
      "outputs": [
        {
          "output_type": "execute_result",
          "data": {
            "text/plain": [
              "(array([False, False,  True, False,  True, False,  True, False, False,\n",
              "         True]),\n",
              " array([False, False,  True, False,  True, False,  True, False, False,\n",
              "         True]))"
            ]
          },
          "metadata": {},
          "execution_count": 166
        }
      ]
    },
    {
      "cell_type": "markdown",
      "metadata": {
        "id": "30RNDZ6lyugz"
      },
      "source": [
        "\n",
        "\n",
        "---\n",
        "\n"
      ]
    },
    {
      "cell_type": "markdown",
      "metadata": {
        "id": "2OYlBEk42ad4"
      },
      "source": [
        "4. Создайте функцию `calc_pred`, возвращающую предсказанный класс (на вход подаются значения признаков `Х` и веса, которые уже посчитаны функцией `eval_LR_model`, на выходе - массив `y_pred`)."
      ]
    },
    {
      "cell_type": "code",
      "metadata": {
        "id": "e-_oPv-tyhHc"
      },
      "source": [
        "def calc_pred(X, w):\n",
        "  y_pred = sigmoid(np.dot(X_st, w))    \n",
        "  return [1 if y > 0.5 else 0 for y in y_pred]"
      ],
      "execution_count": 167,
      "outputs": []
    },
    {
      "cell_type": "code",
      "metadata": {
        "colab": {
          "base_uri": "https://localhost:8080/"
        },
        "id": "6ykws_ibyhw0",
        "outputId": "eba4cef5-7edf-4260-c0e7-cc3f0fb15ffe"
      },
      "source": [
        "X = np.array([[1, 1, 1, 1, 1, 1, 1, 1, 1, 1],\n",
        "              [1, 1, 2, 1, 3, 0, 5, 10, 1, 2],  # стаж репетитора\n",
        "              [500, 700, 750, 600, 1450,        # средняя стоимость занятия\n",
        "               800, 1500, 2000, 450, 1000],\n",
        "              [1, 1, 2, 1, 2, 1, 3, 3, 1, 2]],  # квалификация репетитора\n",
        "              dtype = np.float64).T \n",
        "\n",
        "y = np.array([0, 0, 1, 0, 1, 0, 1, 0, 1, 1]) # поступил или нет ученик на специальность Математика\n",
        "\n",
        "w = best.get('weights')\n",
        "w\n",
        "\n",
        "y_pred = calc_pred(X, w)\n",
        "y_pred"
      ],
      "execution_count": 168,
      "outputs": [
        {
          "output_type": "execute_result",
          "data": {
            "text/plain": [
              "[0, 0, 1, 0, 1, 0, 1, 0, 0, 1]"
            ]
          },
          "metadata": {},
          "execution_count": 168
        }
      ]
    },
    {
      "cell_type": "markdown",
      "metadata": {
        "id": "AhvZ-AMz-sJL"
      },
      "source": [
        "\n",
        "\n",
        "---\n",
        "\n"
      ]
    },
    {
      "cell_type": "markdown",
      "metadata": {
        "id": "oVNBZW-5yTS6"
      },
      "source": [
        "5. Посчитайте accuracy, матрицу ошибок, precision и recall, а также F1-score.\n"
      ]
    },
    {
      "cell_type": "code",
      "metadata": {
        "colab": {
          "base_uri": "https://localhost:8080/"
        },
        "id": "x7VR6o4d_Z_H",
        "outputId": "006bbea2-840b-4146-b4cd-38897384f77d"
      },
      "source": [
        "import sklearn.metrics\n",
        "from sklearn.metrics import precision_recall_curve\n",
        "\n",
        "def calc_pred_score(X, w):\n",
        "  y_pred = sigmoid(np.dot(X_st, w))    \n",
        "  return y_pred\n",
        "\n",
        "print(list(y))\n",
        "print(y_pred)"
      ],
      "execution_count": 169,
      "outputs": [
        {
          "output_type": "stream",
          "name": "stdout",
          "text": [
            "[0, 0, 1, 0, 1, 0, 1, 0, 1, 1]\n",
            "[0, 0, 1, 0, 1, 0, 1, 0, 0, 1]\n"
          ]
        }
      ]
    },
    {
      "cell_type": "code",
      "metadata": {
        "colab": {
          "base_uri": "https://localhost:8080/"
        },
        "id": "JWsCZtaN_fes",
        "outputId": "832ee8d5-fd1e-47ab-e06e-464f78fcd369"
      },
      "source": [
        "accuracy= sklearn.metrics.accuracy_score(y, y_pred)\n",
        "accuracy"
      ],
      "execution_count": 170,
      "outputs": [
        {
          "output_type": "execute_result",
          "data": {
            "text/plain": [
              "0.9"
            ]
          },
          "metadata": {},
          "execution_count": 170
        }
      ]
    },
    {
      "cell_type": "code",
      "metadata": {
        "colab": {
          "base_uri": "https://localhost:8080/"
        },
        "id": "6QyRgAbW_VMb",
        "outputId": "b7ba0ed8-75cc-406e-b697-a201b961302e"
      },
      "source": [
        "conf_matrix= sklearn.metrics.confusion_matrix(y, y_pred)\n",
        "conf_matrix"
      ],
      "execution_count": 171,
      "outputs": [
        {
          "output_type": "execute_result",
          "data": {
            "text/plain": [
              "array([[5, 0],\n",
              "       [1, 4]])"
            ]
          },
          "metadata": {},
          "execution_count": 171
        }
      ]
    },
    {
      "cell_type": "code",
      "metadata": {
        "colab": {
          "base_uri": "https://localhost:8080/"
        },
        "id": "JndEU9G-ymV0",
        "outputId": "69c078e8-ff12-4083-c835-c49b3410f4c6"
      },
      "source": [
        "y_scores = calc_pred_score(X, w)\n",
        "y_scores"
      ],
      "execution_count": 172,
      "outputs": [
        {
          "output_type": "execute_result",
          "data": {
            "text/plain": [
              "array([0.27476844, 0.16882184, 0.9870639 , 0.21716215, 0.71239605,\n",
              "       0.3407197 , 0.99627936, 0.10005487, 0.30688926, 0.97222404])"
            ]
          },
          "metadata": {},
          "execution_count": 172
        }
      ]
    },
    {
      "cell_type": "code",
      "metadata": {
        "colab": {
          "base_uri": "https://localhost:8080/"
        },
        "id": "cXtHpJndAs_Z",
        "outputId": "f3a40375-3a13-482e-c58e-9c04d5e6270e"
      },
      "source": [
        "\n",
        "\n",
        "precision, recall, thresholds = precision_recall_curve(y, y_scores)\n",
        "precision"
      ],
      "execution_count": 173,
      "outputs": [
        {
          "output_type": "execute_result",
          "data": {
            "text/plain": [
              "array([0.83333333, 0.8       , 1.        , 1.        , 1.        ,\n",
              "       1.        , 1.        ])"
            ]
          },
          "metadata": {},
          "execution_count": 173
        }
      ]
    },
    {
      "cell_type": "code",
      "metadata": {
        "colab": {
          "base_uri": "https://localhost:8080/"
        },
        "id": "bqtnEGCeymaF",
        "outputId": "ad6c21e9-627f-40ae-f535-ad5239cc6d81"
      },
      "source": [
        "recall"
      ],
      "execution_count": 174,
      "outputs": [
        {
          "output_type": "execute_result",
          "data": {
            "text/plain": [
              "array([1. , 0.8, 0.8, 0.6, 0.4, 0.2, 0. ])"
            ]
          },
          "metadata": {},
          "execution_count": 174
        }
      ]
    },
    {
      "cell_type": "code",
      "metadata": {
        "colab": {
          "base_uri": "https://localhost:8080/"
        },
        "id": "maVnKkmcymg5",
        "outputId": "bb3803ea-3e66-4ed1-a36a-0c7c9cea18b8"
      },
      "source": [
        "thresholds"
      ],
      "execution_count": 175,
      "outputs": [
        {
          "output_type": "execute_result",
          "data": {
            "text/plain": [
              "array([0.30688926, 0.3407197 , 0.71239605, 0.97222404, 0.9870639 ,\n",
              "       0.99627936])"
            ]
          },
          "metadata": {},
          "execution_count": 175
        }
      ]
    },
    {
      "cell_type": "code",
      "metadata": {
        "colab": {
          "base_uri": "https://localhost:8080/"
        },
        "id": "UPBGqHzRyriy",
        "outputId": "04601652-c5c5-49ab-8253-2adbde9e1d61"
      },
      "source": [
        "f1_score=sklearn.metrics.f1_score(y, y_pred)\n",
        "f1_score"
      ],
      "execution_count": 176,
      "outputs": [
        {
          "output_type": "execute_result",
          "data": {
            "text/plain": [
              "0.888888888888889"
            ]
          },
          "metadata": {},
          "execution_count": 176
        }
      ]
    },
    {
      "cell_type": "markdown",
      "metadata": {
        "id": "k4q5o9o9B5nq"
      },
      "source": [
        "\n",
        "\n",
        "---\n",
        "\n"
      ]
    },
    {
      "cell_type": "markdown",
      "metadata": {
        "id": "f6fJo6veym8E"
      },
      "source": [
        "6. Могла ли модель переобучиться? Почему?"
      ]
    },
    {
      "cell_type": "code",
      "metadata": {
        "id": "HpMkNIAVCDGK"
      },
      "source": [
        "# Да, маленькая выборка"
      ],
      "execution_count": 177,
      "outputs": []
    }
  ]
}