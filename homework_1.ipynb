{
  "nbformat": 4,
  "nbformat_minor": 0,
  "metadata": {
    "colab": {
      "name": "homework_1.ipynb",
      "provenance": [],
      "collapsed_sections": [],
      "include_colab_link": true
    },
    "kernelspec": {
      "display_name": "Python 3",
      "language": "python",
      "name": "python3"
    },
    "language_info": {
      "codemirror_mode": {
        "name": "ipython",
        "version": 3
      },
      "file_extension": ".py",
      "mimetype": "text/x-python",
      "name": "python",
      "nbconvert_exporter": "python",
      "pygments_lexer": "ipython3",
      "version": "3.7.3"
    },
    "toc": {
      "base_numbering": 1,
      "nav_menu": {},
      "number_sections": false,
      "sideBar": true,
      "skip_h1_title": true,
      "title_cell": "План занятия",
      "title_sidebar": "План",
      "toc_cell": true,
      "toc_position": {
        "height": "calc(100% - 180px)",
        "left": "10px",
        "top": "150px",
        "width": "165px"
      },
      "toc_section_display": true,
      "toc_window_display": true
    }
  },
  "cells": [
    {
      "cell_type": "markdown",
      "metadata": {
        "id": "view-in-github",
        "colab_type": "text"
      },
      "source": [
        "<a href=\"https://colab.research.google.com/github/elka97/DataAnalysisAlgoritms/blob/main/homework_1.ipynb\" target=\"_parent\"><img src=\"https://colab.research.google.com/assets/colab-badge.svg\" alt=\"Open In Colab\"/></a>"
      ]
    },
    {
      "cell_type": "code",
      "metadata": {
        "id": "ak8b3KV45kVW"
      },
      "source": [
        "import numpy as np\n",
        "import matplotlib.pyplot as plt\n",
        "plt.rcParams.update({'font.size': 14, 'xtick.labelsize': 14})"
      ],
      "execution_count": 108,
      "outputs": []
    },
    {
      "cell_type": "code",
      "metadata": {
        "id": "ukaXd7UeJMpB"
      },
      "source": [
        "def calc_mse(y, y_pred):\n",
        "    err = np.mean((y - y_pred)**2)\n",
        "    return err\n",
        "\n",
        "def calc_mae(y, y_pred):\n",
        "    err = np.mean(np.abs(y - y_pred))\n",
        "    return err"
      ],
      "execution_count": 109,
      "outputs": []
    },
    {
      "cell_type": "markdown",
      "metadata": {
        "id": "huXrhXQsZTMt"
      },
      "source": [
        "1. Подберите скорость обучения (alpha) и количество итераций для градиентного спуска (до совпадения ответов с результатами МНК). Как влияют друг на друга эти два параметра?"
      ]
    },
    {
      "cell_type": "code",
      "metadata": {
        "colab": {
          "base_uri": "https://localhost:8080/"
        },
        "id": "a4DT1gWYIgaV",
        "outputId": "51a2a2cc-a114-479b-cc2c-bfc851b1a6dc"
      },
      "source": [
        "X = np.array([[1, 1, 1, 1, 1, 1, 1, 1, 1, 1],   # для умножения на intercept\n",
        "              [1, 1, 2, 1, 3, 0, 5, 10, 1, 2]]).T # стаж репетитора\n",
        "X.shape"
      ],
      "execution_count": 110,
      "outputs": [
        {
          "output_type": "execute_result",
          "data": {
            "text/plain": [
              "(10, 2)"
            ]
          },
          "metadata": {},
          "execution_count": 110
        }
      ]
    },
    {
      "cell_type": "code",
      "metadata": {
        "colab": {
          "base_uri": "https://localhost:8080/"
        },
        "id": "iC8iBU_lIqw6",
        "outputId": "eb2ee6fc-d401-4169-cbb2-77697837133b"
      },
      "source": [
        "X"
      ],
      "execution_count": 111,
      "outputs": [
        {
          "output_type": "execute_result",
          "data": {
            "text/plain": [
              "array([[ 1,  1],\n",
              "       [ 1,  1],\n",
              "       [ 1,  2],\n",
              "       [ 1,  1],\n",
              "       [ 1,  3],\n",
              "       [ 1,  0],\n",
              "       [ 1,  5],\n",
              "       [ 1, 10],\n",
              "       [ 1,  1],\n",
              "       [ 1,  2]])"
            ]
          },
          "metadata": {},
          "execution_count": 111
        }
      ]
    },
    {
      "cell_type": "code",
      "metadata": {
        "id": "xbzEgyKsIuQJ"
      },
      "source": [
        "# средний балл ЕГЭ (целевая переменная)\n",
        "y = [45, 55, 50, 59, 65, 35, 75, 80, 50, 60]"
      ],
      "execution_count": 112,
      "outputs": []
    },
    {
      "cell_type": "code",
      "metadata": {
        "colab": {
          "base_uri": "https://localhost:8080/"
        },
        "id": "dm8R__96JbxB",
        "outputId": "ca45b2e6-1c6a-4abc-e454-6c244d7e6373"
      },
      "source": [
        "w = np.linalg.inv(X.T @ X) @ X.T @ y\n",
        "w"
      ],
      "execution_count": 113,
      "outputs": [
        {
          "output_type": "execute_result",
          "data": {
            "text/plain": [
              "array([47.23214286,  3.91071429])"
            ]
          },
          "metadata": {},
          "execution_count": 113
        }
      ]
    },
    {
      "cell_type": "code",
      "metadata": {
        "colab": {
          "base_uri": "https://localhost:8080/"
        },
        "id": "IDB22MQKMYaJ",
        "outputId": "dd44f382-7731-41e6-b050-f8b61c00d05f"
      },
      "source": [
        "n = X.shape[0]\n",
        "alpha = 0.05\n",
        "iterations = 1000+1\n",
        "w = np.array([1, 0.5])\n",
        "\n",
        "print(n, alpha, iterations, w)\n",
        "print()\n",
        "\n",
        "for i in range(iterations):\n",
        "    y_pred = np.dot(w, X.T)\n",
        "    err = calc_mse(y, y_pred)\n",
        "    for j in range(w.shape[0]):\n",
        "        w[j] -= alpha * (1/n * 2 * np.sum(X[:,j] * (y_pred - y)))\n",
        "    if i % 50 == 0:\n",
        "        print(i, w, err) # МНК: array([47.23214286,  3.91071429]) 45.937499999999986\n",
        "\n",
        "# 50-100 iterations with alpha 0.05 for less then 47.23214286; \n",
        "# about 400 iterations for 45.93749999999999"
      ],
      "execution_count": 114,
      "outputs": [
        {
          "output_type": "stream",
          "name": "stdout",
          "text": [
            "10 0.05 1001 [1.  0.5]\n",
            "\n",
            "0 [ 6.51 17.5 ] 3173.15\n",
            "50 [44.33541912  4.44561648] 50.957004607078744\n",
            "100 [47.03142979  3.94777749] 45.96159894380851\n",
            "150 [47.21823551  3.91328238] 45.93761570048006\n",
            "200 [47.23117922  3.91089223] 45.93750055548498\n",
            "250 [47.23207609  3.91072662] 45.93750000266693\n",
            "300 [47.23213823  3.91071514] 45.93750000001278\n",
            "350 [47.23214254  3.91071434] 45.93750000000005\n",
            "400 [47.23214283  3.91071429] 45.93749999999999\n",
            "450 [47.23214286  3.91071429] 45.937500000000014\n",
            "500 [47.23214286  3.91071429] 45.937499999999986\n",
            "550 [47.23214286  3.91071429] 45.937500000000014\n",
            "600 [47.23214286  3.91071429] 45.937499999999986\n",
            "650 [47.23214286  3.91071429] 45.9375\n",
            "700 [47.23214286  3.91071429] 45.9375\n",
            "750 [47.23214286  3.91071429] 45.9375\n",
            "800 [47.23214286  3.91071429] 45.9375\n",
            "850 [47.23214286  3.91071429] 45.9375\n",
            "900 [47.23214286  3.91071429] 45.9375\n",
            "950 [47.23214286  3.91071429] 45.9375\n",
            "1000 [47.23214286  3.91071429] 45.9375\n"
          ]
        }
      ]
    },
    {
      "cell_type": "markdown",
      "metadata": {
        "id": "5Qu1o4JhZYwI"
      },
      "source": [
        "*2. В этом коде мы избавляемся от итераций по весам, но тут есть ошибка, исправьте ее:"
      ]
    },
    {
      "cell_type": "code",
      "metadata": {
        "colab": {
          "base_uri": "https://localhost:8080/"
        },
        "id": "WZZzDCQLY4pA",
        "outputId": "2023e0f3-2224-4134-a2ec-7879ebae17b7"
      },
      "source": [
        "w = np.array([1, 0.5])\n",
        "\n",
        "for i in range(1000):\n",
        "    y_pred = np.dot(w, X.T)\n",
        "    err = calc_mse(y, y_pred)\n",
        "    '''for j in range(w.shape[0]):\n",
        "        w[j] -= alpha * (1/n * 2 * np.sum(X[j] * (y_pred - y)))'''\n",
        "\n",
        "    # w -= (alpha * (1/n * 2 * np.sum(X.T * (y_pred - y))))\n",
        "    w -= (alpha * (1/n * 2 * np.dot(X.T,  (y_pred - y)))) # vot tak  \n",
        "   \n",
        "    if i % 100 == 0:\n",
        "        print(i, w, err) # [47.23214286  3.91071429] 45.937499999999986"
      ],
      "execution_count": 115,
      "outputs": [
        {
          "output_type": "stream",
          "name": "stdout",
          "text": [
            "0 [ 6.51 17.5 ] 3173.15\n",
            "100 [47.03142979  3.94777749] 45.96159894380851\n",
            "200 [47.23117922  3.91089223] 45.93750055548498\n",
            "300 [47.23213823  3.91071514] 45.93750000001278\n",
            "400 [47.23214283  3.91071429] 45.93749999999999\n",
            "500 [47.23214286  3.91071429] 45.937499999999986\n",
            "600 [47.23214286  3.91071429] 45.937499999999986\n",
            "700 [47.23214286  3.91071429] 45.9375\n",
            "800 [47.23214286  3.91071429] 45.9375\n",
            "900 [47.23214286  3.91071429] 45.9375\n"
          ]
        }
      ]
    },
    {
      "cell_type": "code",
      "metadata": {
        "id": "kGLyytFgHdco"
      },
      "source": [
        "*3. Вместо того, чтобы задавать количество итераций, задайте условие остановки алгоритма - когда ошибка за итерацию начинает изменяться ниже определенного порога. \n",
        "\n",
        "Сколько нужно сделать итераций, если установить допустимое отклонение mse в размере $\\text{diff}=10^{-6}$, а значение $\\alpha=10^{-2}$?"
      ],
      "execution_count": null,
      "outputs": []
    },
    {
      "cell_type": "code",
      "metadata": {
        "colab": {
          "base_uri": "https://localhost:8080/"
        },
        "id": "dVRVJreIVWzp",
        "outputId": "45eccf57-d33b-40df-b890-899636b09b4e"
      },
      "source": [
        "w = np.array([1, 0.5])\n",
        "diff = 1e-6\n",
        "alpha = 1e-2\n",
        "print(w, diff, alpha)\n",
        "\n",
        "tmp=None\n",
        "i=0\n",
        "while True :\n",
        "    y_pred = np.dot(w, X.T)\n",
        "    err = calc_mse(y, y_pred)\n",
        "    if tmp is None:\n",
        "      tmp=err\n",
        "    # print(\"err\", err, \"diff\", abs(tmp-err))\n",
        "    w -= (alpha * (1/n * 2 * np.dot(X.T,  (y_pred - y))))      \n",
        "    if i % 50 == 0:\n",
        "      print(i, w, err, tmp, abs(tmp-err), abs(tmp-err) <= diff) # [47.23214286  3.91071429] 45.937499999999986\n",
        "    if abs(tmp-err) <= diff and err<=47.23214286:\n",
        "      print(f\"{i} iterations need\")\n",
        "      break\n",
        "    tmp=err\n",
        "    # print(tmp)\n",
        "    i+=1"
      ],
      "execution_count": 116,
      "outputs": [
        {
          "output_type": "stream",
          "name": "stdout",
          "text": [
            "[1.  0.5] 1e-06 0.01\n",
            "0 [2.102 3.9  ] 3173.15 3173.15 0.0 True\n",
            "50 [21.35487986  8.68914872] 413.5487715072507 421.31437694708603 7.765605439835326 False\n",
            "100 [31.88770806  6.74418155] 175.19445858001842 177.92494760058068 2.73048902056226 False\n",
            "150 [38.13335681  5.59087473] 91.38594686849362 92.34602272467436 0.9600758561807368 False\n",
            "200 [41.83683774  4.90699865] 61.9177717428135 62.255347042578386 0.337575299764886 False\n",
            "250 [44.03289    4.5014808] 51.556373747502974 51.67506966332854 0.11869591582556893 False\n",
            "300 [45.33508261  4.26102097] 47.913169919666785 47.95490496498401 0.04173504531722472 False\n",
            "350 [46.10724347  4.11843556] 46.63217153149881 46.64684612241052 0.014674590911710084 False\n",
            "400 [46.56511152  4.03388672] 46.181755648107604 46.18691542730009 0.005159779192489111 False\n",
            "450 [46.83661344  3.98375182] 46.023383498786444 46.02519774502169 0.0018142462352486177 False\n",
            "500 [46.99760587  3.95402334] 45.96769776787538 45.968335680716045 0.0006379128406663881 False\n",
            "550 [47.09306951  3.93639524] 45.94811793240307 45.948342230948896 0.00022429854582384223 False\n",
            "600 [47.14967657  3.92594232] 45.941233404700036 45.94131227101915 7.886631911446784e-05 False\n",
            "650 [47.18324284  3.91974405] 45.93881271420132 45.93884044463653 2.7730435213868532e-05 False\n",
            "700 [47.20314662  3.91606866] 45.93796156758051 45.93797131796627 9.750385764561997e-06 False\n",
            "750 [47.21494897  3.91388927] 45.93766229323273 45.93766572159659 3.428363861246453e-06 False\n",
            "800 [47.2219474   3.91259695] 45.93755706443538 45.93755826989325 1.2054578704123742e-06 False\n",
            "809 iterations need\n"
          ]
        }
      ]
    },
    {
      "cell_type": "code",
      "metadata": {
        "id": "mcgT5MIyHCiR"
      },
      "source": [
        ""
      ],
      "execution_count": null,
      "outputs": []
    }
  ]
}